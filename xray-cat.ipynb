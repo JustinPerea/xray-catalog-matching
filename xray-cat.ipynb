{
 "cells": [
  {
   "cell_type": "markdown",
   "id": "3e2a8903",
   "metadata": {},
   "source": [
    "# Import Libraries "
   ]
  },
  {
   "cell_type": "code",
   "execution_count": 1,
   "id": "76e12290",
   "metadata": {},
   "outputs": [],
   "source": [
    "import pandas as pd"
   ]
  },
  {
   "cell_type": "markdown",
   "id": "6ec81138",
   "metadata": {},
   "source": [
    "# Read in X-ray file path and create data frame\n",
    "This file is the X-ray catalog of sources in IC 342 that we found at a probability of 99%. \n",
    "\n",
    "142 Sources. \n",
    "This only includes the X-ray sources that are within our HST observation. \n",
    "\n",
    "The columns are source name, ra, dec, "
   ]
  },
  {
   "cell_type": "code",
   "execution_count": 2,
   "id": "171c2b11",
   "metadata": {},
   "outputs": [],
   "source": [
    "file_path_Xray = 'Xray99_final.txt'"
   ]
  },
  {
   "cell_type": "code",
   "execution_count": 3,
   "id": "f07bb443",
   "metadata": {},
   "outputs": [],
   "source": [
    "df_Xray = pd.read_csv(file_path_Xray, sep=',', header=None)"
   ]
  },
  {
   "cell_type": "markdown",
   "id": "13bc9fae",
   "metadata": {},
   "source": [
    "### Change column names "
   ]
  },
  {
   "cell_type": "code",
   "execution_count": 4,
   "id": "08f26159",
   "metadata": {},
   "outputs": [],
   "source": [
    "column_names_Xray = ['source', 'ra', 'dec', '?', '?', 'sig1', 'sig2', 'sig3']"
   ]
  },
  {
   "cell_type": "code",
   "execution_count": 5,
   "id": "96051459",
   "metadata": {},
   "outputs": [],
   "source": [
    "df_Xray.columns = column_names_Xray"
   ]
  },
  {
   "cell_type": "code",
   "execution_count": 6,
   "id": "e3b039d4",
   "metadata": {},
   "outputs": [],
   "source": [
    "# dropping two of the columns we do not need\n",
    "drop_col_Xray = [col for col in df_Xray.columns if '?' in col]\n",
    "\n",
    "df_Xray = df_Xray.drop(columns=drop_col_Xray)"
   ]
  },
  {
   "cell_type": "code",
   "execution_count": 7,
   "id": "24c63b1c",
   "metadata": {},
   "outputs": [
    {
     "data": {
      "text/html": [
       "<div>\n",
       "<style scoped>\n",
       "    .dataframe tbody tr th:only-of-type {\n",
       "        vertical-align: middle;\n",
       "    }\n",
       "\n",
       "    .dataframe tbody tr th {\n",
       "        vertical-align: top;\n",
       "    }\n",
       "\n",
       "    .dataframe thead th {\n",
       "        text-align: right;\n",
       "    }\n",
       "</style>\n",
       "<table border=\"1\" class=\"dataframe\">\n",
       "  <thead>\n",
       "    <tr style=\"text-align: right;\">\n",
       "      <th></th>\n",
       "      <th>source</th>\n",
       "      <th>ra</th>\n",
       "      <th>dec</th>\n",
       "      <th>sig1</th>\n",
       "      <th>sig2</th>\n",
       "      <th>sig3</th>\n",
       "    </tr>\n",
       "  </thead>\n",
       "  <tbody>\n",
       "    <tr>\n",
       "      <th>0</th>\n",
       "      <td>034642.35+680938.2</td>\n",
       "      <td>56.676577</td>\n",
       "      <td>68.160591</td>\n",
       "      <td>2.561205</td>\n",
       "      <td>5.122410</td>\n",
       "      <td>7.683615</td>\n",
       "    </tr>\n",
       "    <tr>\n",
       "      <th>1</th>\n",
       "      <td>034643.19+680211.6</td>\n",
       "      <td>56.680053</td>\n",
       "      <td>68.036526</td>\n",
       "      <td>2.471818</td>\n",
       "      <td>4.943636</td>\n",
       "      <td>7.415454</td>\n",
       "    </tr>\n",
       "    <tr>\n",
       "      <th>2</th>\n",
       "      <td>034702.73+681001.6</td>\n",
       "      <td>56.761489</td>\n",
       "      <td>68.167083</td>\n",
       "      <td>2.316915</td>\n",
       "      <td>4.633831</td>\n",
       "      <td>6.950746</td>\n",
       "    </tr>\n",
       "    <tr>\n",
       "      <th>3</th>\n",
       "      <td>034644.91+680859.1</td>\n",
       "      <td>56.687242</td>\n",
       "      <td>68.149708</td>\n",
       "      <td>2.210881</td>\n",
       "      <td>4.421761</td>\n",
       "      <td>6.632642</td>\n",
       "    </tr>\n",
       "    <tr>\n",
       "      <th>4</th>\n",
       "      <td>034619.81+680837.5</td>\n",
       "      <td>56.582643</td>\n",
       "      <td>68.143720</td>\n",
       "      <td>2.182250</td>\n",
       "      <td>4.364499</td>\n",
       "      <td>6.546749</td>\n",
       "    </tr>\n",
       "    <tr>\n",
       "      <th>...</th>\n",
       "      <td>...</td>\n",
       "      <td>...</td>\n",
       "      <td>...</td>\n",
       "      <td>...</td>\n",
       "      <td>...</td>\n",
       "      <td>...</td>\n",
       "    </tr>\n",
       "    <tr>\n",
       "      <th>137</th>\n",
       "      <td>034652.81+680504.5</td>\n",
       "      <td>56.720169</td>\n",
       "      <td>68.084545</td>\n",
       "      <td>0.493928</td>\n",
       "      <td>0.987855</td>\n",
       "      <td>1.481783</td>\n",
       "    </tr>\n",
       "    <tr>\n",
       "      <th>138</th>\n",
       "      <td>034559.57+680538.0</td>\n",
       "      <td>56.498318</td>\n",
       "      <td>68.093858</td>\n",
       "      <td>0.493555</td>\n",
       "      <td>0.987110</td>\n",
       "      <td>1.480664</td>\n",
       "    </tr>\n",
       "    <tr>\n",
       "      <th>139</th>\n",
       "      <td>034648.44+680547.2</td>\n",
       "      <td>56.701931</td>\n",
       "      <td>68.096418</td>\n",
       "      <td>0.483667</td>\n",
       "      <td>0.967335</td>\n",
       "      <td>1.451002</td>\n",
       "    </tr>\n",
       "    <tr>\n",
       "      <th>140</th>\n",
       "      <td>034643.65+680611.3</td>\n",
       "      <td>56.681968</td>\n",
       "      <td>68.103121</td>\n",
       "      <td>0.482793</td>\n",
       "      <td>0.965587</td>\n",
       "      <td>1.448380</td>\n",
       "    </tr>\n",
       "    <tr>\n",
       "      <th>141</th>\n",
       "      <td>034657.45+680619.3</td>\n",
       "      <td>56.739500</td>\n",
       "      <td>68.105335</td>\n",
       "      <td>0.481599</td>\n",
       "      <td>0.963197</td>\n",
       "      <td>1.444796</td>\n",
       "    </tr>\n",
       "  </tbody>\n",
       "</table>\n",
       "<p>142 rows × 6 columns</p>\n",
       "</div>"
      ],
      "text/plain": [
       "                 source         ra        dec      sig1      sig2      sig3\n",
       "0    034642.35+680938.2  56.676577  68.160591  2.561205  5.122410  7.683615\n",
       "1    034643.19+680211.6  56.680053  68.036526  2.471818  4.943636  7.415454\n",
       "2    034702.73+681001.6  56.761489  68.167083  2.316915  4.633831  6.950746\n",
       "3    034644.91+680859.1  56.687242  68.149708  2.210881  4.421761  6.632642\n",
       "4    034619.81+680837.5  56.582643  68.143720  2.182250  4.364499  6.546749\n",
       "..                  ...        ...        ...       ...       ...       ...\n",
       "137  034652.81+680504.5  56.720169  68.084545  0.493928  0.987855  1.481783\n",
       "138  034559.57+680538.0  56.498318  68.093858  0.493555  0.987110  1.480664\n",
       "139  034648.44+680547.2  56.701931  68.096418  0.483667  0.967335  1.451002\n",
       "140  034643.65+680611.3  56.681968  68.103121  0.482793  0.965587  1.448380\n",
       "141  034657.45+680619.3  56.739500  68.105335  0.481599  0.963197  1.444796\n",
       "\n",
       "[142 rows x 6 columns]"
      ]
     },
     "execution_count": 7,
     "metadata": {},
     "output_type": "execute_result"
    }
   ],
   "source": [
    "df_Xray"
   ]
  },
  {
   "cell_type": "code",
   "execution_count": null,
   "id": "cdb46c74",
   "metadata": {},
   "outputs": [],
   "source": []
  }
 ],
 "metadata": {
  "kernelspec": {
   "display_name": "Python 3",
   "language": "python",
   "name": "python3"
  },
  "language_info": {
   "codemirror_mode": {
    "name": "ipython",
    "version": 3
   },
   "file_extension": ".py",
   "mimetype": "text/x-python",
   "name": "python",
   "nbconvert_exporter": "python",
   "pygments_lexer": "ipython3",
   "version": "3.7.6"
  }
 },
 "nbformat": 4,
 "nbformat_minor": 5
}
